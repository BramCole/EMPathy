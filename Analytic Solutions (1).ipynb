{
 "cells": [
  {
   "cell_type": "markdown",
   "metadata": {},
   "source": [
    "### Import"
   ]
  },
  {
   "cell_type": "code",
   "execution_count": 21,
   "metadata": {},
   "outputs": [],
   "source": [
    "import numpy as np\n",
    "from scipy.constants import *\n",
    "import matplotlib.pyplot as plt\n",
    "from tqdm import tqdm"
   ]
  },
  {
   "cell_type": "code",
   "execution_count": 22,
   "metadata": {},
   "outputs": [],
   "source": [
    "def pointCharge(q, r_s, r_m):\n",
    "    ### Calculates the EM field of an assembly of point charges ###\n",
    "    \n",
    "    #Each pc in pc_ass has 4 dimensions\n",
    "    #pc[0] == charge\n",
    "    #pc[1:end] == source position\n",
    "    #r_m == measurement position from the origin\n",
    "    k=9e9 #Initialize\n",
    "    #Define the distance from the source to our measurement\n",
    "    r = r_m - r_s\n",
    "    rSqrd = r[:,0]**2 + r[:,1]**2 + r[:,2]**2\n",
    "    \n",
    "    #Ignore the points that cause an infinite electromagnetic field\n",
    "    inf_ind = np.where(rSqrd==0)\n",
    "    q = np.delete(q,inf_ind)\n",
    "    rSqrd = np.delete(rSqrd,inf_ind)\n",
    "    \n",
    "    r = np.delete(r,inf_ind, axis=0)\n",
    "    \n",
    "    #Reshape rSqrd and q for vectorised calculations\n",
    "    rSqrd = np.reshape(rSqrd,(len(rSqrd),1))\n",
    "    q = np.reshape(q,(len(q),1))\n",
    "    \n",
    "    #Define the unit vector of the EM field\n",
    "    rHat = r/rSqrd**0.5\n",
    "    \n",
    "    #Use Coulomb's Law to analytically calculate the EM field\n",
    "    E_array = k*q/rSqrd * rHat\n",
    "    \n",
    "    return  np.array([np.sum(E_array[:,0]), np.sum(E_array[:,1]), np.sum(E_array[:,2])]) #Add the contribution from each point charge"
   ]
  },
  {
   "cell_type": "code",
   "execution_count": 23,
   "metadata": {},
   "outputs": [],
   "source": [
    "def lineCharge(L, q_tot, r_s0, v_s0, r_m, N):\n",
    "    ### Calculates the EM field of a finite line charge ###\n",
    "    \n",
    "    #L == length\n",
    "    #q_tot == total charge carried by the wire\n",
    "    #r_s0 == point at one end of the line charge\n",
    "    #v_s0 == unit vector oriented along the line charge (relative to the origin)\n",
    "    #r_m == radius of measurement (relative to the origin)\n",
    "    #N == number of sample points\n",
    "    \n",
    "    #Ensure that v_s0 is a unit vector\n",
    "    v_s0 = v_s0/np.dot(v_s0,v_s0)**0.5\n",
    "    \n",
    "    dq = np.ones(N) * (q_tot/N)\n",
    "    range_ = np.linspace(0,L,N)\n",
    "    r_s = r_s0 + np.array([v_s0[0]*range_, v_s0[1]*range_, v_s0[2]*range_]).T\n",
    "    \n",
    "    return pointCharge(dq, r_s, r_m), r_s"
   ]
  },
  {
   "cell_type": "code",
   "execution_count": 24,
   "metadata": {},
   "outputs": [],
   "source": [
    "def plateCharge(L, q_tot, z, r_m, N):\n",
    "    ## Measures the electric field produced by a plate orinted in the x-y plane ##\n",
    "    #L == length of the square plate\n",
    "    #q_tot == total charge carried by the plate\n",
    "    #z is the position of the plate\n",
    "    #r_m == radius of measurement (relative to the origin)\n",
    "    #N == number of sample points\n",
    "    \n",
    "    #Define the differential charge\n",
    "    dq = q_tot/N**2\n",
    "    \n",
    "    #Define the array of source points\n",
    "    rn = np.linspace(0,L,N)\n",
    "    x,y=np.meshgrid(rn,rn)\n",
    "    X = np.reshape(x,(N,N,1))\n",
    "    Y = np.reshape(y,(N,N,1))\n",
    "    \n",
    "    r_sAr = np.append(X,Y,axis=2)\n",
    "    r_s = np.reshape(r_sAr,(N**2,2)) #Flatten\n",
    "    \n",
    "    Z = np.ones((N**2,1)) * z #Make it 3D\n",
    "    r_s = np.append(r_s,Z,axis=1)\n",
    "    \n",
    "    return pointCharge(dq, r_s, r_m)"
   ]
  },
  {
   "cell_type": "code",
   "execution_count": 25,
   "metadata": {},
   "outputs": [],
   "source": [
    "def capacitor(L, d, V, C, r_m, N):\n",
    "    #Total charge on the place of a capacitor\n",
    "    Q = C*V\n",
    "    #Sum the contributions of each plate\n",
    "    E = plateCharge(L=L, q_tot=Q, z=d, r_m=r_m, N=N) + plateCharge(L=L, q_tot=-Q, z=0, r_m=r_m, N=N)\n",
    "    return E"
   ]
  },
  {
   "cell_type": "code",
   "execution_count": null,
   "metadata": {},
   "outputs": [],
   "source": []
  },
  {
   "cell_type": "code",
   "execution_count": 26,
   "metadata": {},
   "outputs": [
    {
     "name": "stdout",
     "output_type": "stream",
     "text": [
      "The electric field is: E = 488.0 i + 367.0 j + 0.0 k at the point of measurement\n"
     ]
    },
    {
     "data": {
      "image/png": "[encoded data removed]",
      "text/plain": [
       "<Figure size 432x288 with 1 Axes>"
      ]
     },
     "metadata": {
      "needs_background": "light"
     },
     "output_type": "display_data"
    }
   ],
   "source": [
    "#Parameters\n",
    "L=2.8\n",
    "q_tot=126e-9\n",
    "r_s0=np.array([0,0,0])\n",
    "v_s0=np.array([0,1,0])\n",
    "r_m = np.array([0.8,L,0])\n",
    "N=500\n",
    "\n",
    "#Calculate\n",
    "E, r_s = lineCharge(L, q_tot, r_s0, v_s0, r_m, N)\n",
    "print('The electric field is: E = {} i + {} j + {} k at the point of measurement'.format(round(E[0],0), round(E[1],0), round(E[2],0)))\n",
    "\n",
    "#Create vector field\n",
    "E = E/np.dot(E,E)**0.5 #Scale\n",
    "rn = np.array([0,L/15])\n",
    "Efield = r_m + np.array([E[0]*rn, E[1]*rn, E[2]*rn]).T\n",
    "\n",
    "plt.plot(Efield[:,0], Efield[:,1])\n",
    "plt.plot(r_s[:,0],r_s[:,1])\n",
    "plt.scatter(r_m[0],r_m[1], s=20)\n",
    "plt.legend(['Electric Field',\n",
    "            'Line of Charge',\n",
    "            'Measurement point'],\n",
    "          loc = 'best')\n",
    "plt.show()"
   ]
  },
  {
   "cell_type": "code",
   "execution_count": 103,
   "metadata": {},
   "outputs": [
    {
     "name": "stdout",
     "output_type": "stream",
     "text": [
      "The electric field is: E = 0.76 i + 0.0 j + -0.3 k at the point of measurement\n"
     ]
    },
    {
     "data": {
      "image/png": "[encoded data removed]",
      "text/plain": [
       "<Figure size 432x288 with 1 Axes>"
      ]
     },
     "metadata": {
      "needs_background": "light"
     },
     "output_type": "display_data"
    }
   ],
   "source": [
    "L = 1\n",
    "d = 0.3\n",
    "V = 1\n",
    "C = 1e-9\n",
    "r_m = np.array([-1, L/2, -0.5])\n",
    "N = 100\n",
    "\n",
    "E = capacitor(L, d, V, C, r_m, N)\n",
    "print('The electric field is: E = {} i + {} j + {} k at the point of measurement'.format(round(E[0],2), round(E[1],2), round(E[2],2)))\n",
    "E = E/np.dot(E,E)**0.5\n",
    "rn = np.array([0,L/15])\n",
    "Efield = r_m + np.array([E[0]*rn, E[1]*rn, E[2]*rn]).T\n",
    "plt.plot(Efield[:,0], Efield[:,2])\n",
    "plt.scatter(r_m[0],r_m[2])\n",
    "plt.plot(np.linspace(0,L,10),np.ones(10)*d,'+')\n",
    "plt.plot(np.linspace(0,L,10),np.zeros(10),'_')\n",
    "plt.show()"
   ]
  },
  {
   "cell_type": "code",
   "execution_count": 74,
   "metadata": {},
   "outputs": [],
   "source": [
    "def capField(L, d, V, C, N, n_m):\n",
    "    \n",
    "    #Plot the capacitor\n",
    "    plt.plot(np.linspace(0,L,10),np.ones(10)*d,'+')\n",
    "    plt.plot(np.linspace(0,L,10),np.zeros(10),'_')\n",
    "    \n",
    "    #Define the points to measure the field\n",
    "    ran = np.linspace(-L/2,3*L/2,n_m)\n",
    "    range_ = np.array([0,L/10])\n",
    "    \n",
    "    #Measure the field at multiple points\n",
    "    for i in tqdm(range(n_m)):\n",
    "        for k in range(n_m):\n",
    "        #Define the measurement point\n",
    "            r_m = np.array([ran[i], L/2, ran[k]])\n",
    "\n",
    "            #Measure the electric field at that point\n",
    "            E_i = capacitor(L, d, V, C, r_m, N)\n",
    "            magE_i = np.dot(E_i,E_i)**0.5 #Save for colour of vector\n",
    "            E_i = E_i/magE_i #Normalize for ease of display\n",
    "\n",
    "            #Create the electric field vectors\n",
    "            rn = np.array([0,L/15])\n",
    "            Efield = r_m + np.array([E[0]*range_, E[1]*range_, E[2]*range_]).T\n",
    "            plt.plot(Efield[:,0], Efield[:,2], 'b', linewidth=magE_i/20)\n",
    "            plt.scatter(r_m[0],r_m[2], c='b', s=1)\n",
    "    \n",
    "    plt.xlabel('x')\n",
    "    plt.ylabel('z')\n",
    "    plt.show()"
   ]
  },
  {
   "cell_type": "code",
   "execution_count": 75,
   "metadata": {},
   "outputs": [
    {
     "name": "stderr",
     "output_type": "stream",
     "text": [
      "100%|████████████████████████████████████████████████████████████████████████████████████| 5/5 [00:00<00:00, 45.78it/s]\n"
     ]
    },
    {
     "data": {
      "image/png": "[encoded data removed]",
      "text/plain": [
       "<Figure size 432x288 with 1 Axes>"
      ]
     },
     "metadata": {
      "needs_background": "light"
     },
     "output_type": "display_data"
    }
   ],
   "source": [
    "capField(L=1, d=0.3, V=1, C=1e-9, N=50, n_m=5)"
   ]
  },
  {
   "cell_type": "code",
   "execution_count": null,
   "metadata": {},
   "outputs": [],
   "source": []
  }
 ],
 "metadata": {
  "kernelspec": {
   "display_name": "Python 3",
   "language": "python",
   "name": "python3"
  },
  "language_info": {
   "codemirror_mode": {
    "name": "ipython",
    "version": 3
   },
   "file_extension": ".py",
   "mimetype": "text/x-python",
   "name": "python",
   "nbconvert_exporter": "python",
   "pygments_lexer": "ipython3",
   "version": "3.8.6"
  }
 },
 "nbformat": 4,
 "nbformat_minor": 4
}
